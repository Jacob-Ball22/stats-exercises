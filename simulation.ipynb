{
 "cells": [
  {
   "cell_type": "code",
   "execution_count": 146,
   "id": "b62b5108-d2dc-42a0-a33c-43a63e434ff3",
   "metadata": {
    "tags": []
   },
   "outputs": [],
   "source": [
    "import matplotlib.pyplot as plt\n",
    "import numpy as np\n",
    "import pandas as pd\n",
    "from scipy import stats\n",
    "np.random.seed(123)"
   ]
  },
  {
   "cell_type": "markdown",
   "id": "5a643095-a8cc-4b9f-9d02-c6b38ad5c235",
   "metadata": {},
   "source": [
    "**How likely is it that you roll doubles when rolling two dice?**"
   ]
  },
  {
   "cell_type": "code",
   "execution_count": 151,
   "id": "4ea138a8-5d67-421a-a807-7d12b0c91010",
   "metadata": {
    "tags": []
   },
   "outputs": [
    {
     "data": {
      "text/plain": [
       "0.1649"
      ]
     },
     "execution_count": 151,
     "metadata": {},
     "output_type": "execute_result"
    }
   ],
   "source": [
    "outcomes = [1,2,3,4,5,6]\n",
    "n_simulations = 10_000\n",
    "\n",
    "dice1_rolls = np.random.choice(outcomes, n_simulations)  # Dice 1 rolls\n",
    "dice2_rolls = np.random.choice(outcomes, n_simulations)  # Dice 2 rolls\n",
    "two_rolls = np.sum(dice1_rolls == dice2_rolls)\n",
    "probability_doubles = two_rolls / n_simulations\n",
    "probability_doubles"
   ]
  },
  {
   "cell_type": "markdown",
   "id": "69c33768-6534-4ab1-8be2-02b655fb6900",
   "metadata": {},
   "source": [
    "**If you flip 8 coins, what is the probability of getting exactly 3 heads? What is the probability of getting more than 3 heads?**"
   ]
  },
  {
   "cell_type": "code",
   "execution_count": 152,
   "id": "23728c6f-7db1-4208-81cc-b8c583a6e4de",
   "metadata": {
    "tags": []
   },
   "outputs": [
    {
     "data": {
      "text/plain": [
       "0.219"
      ]
     },
     "execution_count": 152,
     "metadata": {},
     "output_type": "execute_result"
    }
   ],
   "source": [
    "outcomes = ['H','T']\n",
    "n_trials = 8\n",
    "n_simulations = 10_000\n",
    "\n",
    "eight_flips = np.random.choice(outcomes, (n_simulations, n_trials))\n",
    "eight_flips[:10]\n",
    "\n",
    "((eight_flips == 'H').sum(axis=1) == 3).mean()"
   ]
  },
  {
   "cell_type": "code",
   "execution_count": 154,
   "id": "9f7a91b7-3781-424b-825d-e52c300edf31",
   "metadata": {
    "tags": []
   },
   "outputs": [
    {
     "data": {
      "text/plain": [
       "0.6385"
      ]
     },
     "execution_count": 154,
     "metadata": {},
     "output_type": "execute_result"
    }
   ],
   "source": [
    "((eight_flips == 'H').sum(axis=1) > 3).mean()"
   ]
  },
  {
   "cell_type": "markdown",
   "id": "2fead776-ecd3-49b1-8704-df7c570db2b5",
   "metadata": {},
   "source": [
    "**There are approximitely 3 web development cohorts for every 1 data science cohort at Codeup. Assuming that Codeup randomly selects an alumni to put on a billboard, what are the odds that the two billboards I drive past both have data science students on them?**"
   ]
  },
  {
   "cell_type": "code",
   "execution_count": 38,
   "id": "c4d5f638-4bf2-4151-bc33-79d299d09706",
   "metadata": {
    "tags": []
   },
   "outputs": [
    {
     "data": {
      "text/plain": [
       "0.0621"
      ]
     },
     "execution_count": 38,
     "metadata": {},
     "output_type": "execute_result"
    }
   ],
   "source": [
    "outcomes = ['WD', 'WD', 'WD', 'DS']\n",
    "cu_trials = 2\n",
    "cu_simulations = 10_000\n",
    "\n",
    "billboard = np.random.choice(outcomes, (cu_simulations, cu_trials))\n",
    "\n",
    "((billboard == 'DS').sum(axis=1) == 2).mean()"
   ]
  },
  {
   "cell_type": "markdown",
   "id": "b1f5102b-7322-4a63-a2df-334e34d10b8f",
   "metadata": {},
   "source": [
    "**Codeup students buy, on average, 3 poptart packages with a standard deviation of 1.5 a day from the snack vending machine. If on monday the machine is restocked with 17 poptart packages, how likely is it that I will be able to buy some poptarts on Friday afternoon? (Remember, if you have mean and standard deviation, use the np.random.normal) You'll need to make a judgement call on how to handle some of your values**"
   ]
  },
  {
   "cell_type": "code",
   "execution_count": 161,
   "id": "1db6c517-4723-47eb-bbfd-c15f5b6d4f21",
   "metadata": {
    "tags": []
   },
   "outputs": [
    {
     "data": {
      "text/plain": [
       "0.6165"
      ]
     },
     "execution_count": 161,
     "metadata": {},
     "output_type": "execute_result"
    }
   ],
   "source": [
    "pop_mean = 3\n",
    "pop_sd = 1.5\n",
    "pop_days = 5\n",
    "\n",
    "poptarts_purchased = np.random.normal(pop_mean, pop_sd, (sample, pop_days))\n",
    "purchased_weekly = poptarts_purchased.sum(axis=1) \n",
    "((17 - purchased_weekly) >= 1).mean()"
   ]
  },
  {
   "cell_type": "markdown",
   "id": "d42c5ac8-1a5c-43f9-86ea-d6e12ee516e3",
   "metadata": {},
   "source": [
    "**Compare Heights**\n",
    "* Men have an average height of 178 cm and standard deviation of 8cm."
   ]
  },
  {
   "cell_type": "code",
   "execution_count": 61,
   "id": "0d710deb-6aff-48dc-a924-eacc6d0309a1",
   "metadata": {
    "tags": []
   },
   "outputs": [],
   "source": [
    "men_mean = 178\n",
    "men_std = 8\n",
    "sample = 10_000"
   ]
  },
  {
   "cell_type": "markdown",
   "id": "9c1f7a0a-f040-4619-95b3-1a476d27932d",
   "metadata": {},
   "source": [
    "* Women have a mean of 170, sd = 6cm."
   ]
  },
  {
   "cell_type": "code",
   "execution_count": 60,
   "id": "f74a9cab-2a00-42ab-b404-6edd92f2db84",
   "metadata": {
    "tags": []
   },
   "outputs": [],
   "source": [
    "women_mean = 170\n",
    "women_std = 6"
   ]
  },
  {
   "cell_type": "markdown",
   "id": "f25f77e7-a5d2-4d6a-909a-604e9f8df334",
   "metadata": {},
   "source": [
    "* Since you have means and standard deviations, you can use np.random.normal to generate observations.\n"
   ]
  },
  {
   "cell_type": "code",
   "execution_count": 68,
   "id": "8116c1c0-24b9-4742-b9da-0aed467d35f8",
   "metadata": {
    "tags": []
   },
   "outputs": [
    {
     "data": {
      "text/plain": [
       "(array([185.91974586, 182.20142629, 165.26762744, ..., 167.91781972,\n",
       "        177.88901812, 183.8429043 ]),\n",
       " array([174.24586714, 169.6909214 , 182.42789118, ..., 168.26102276,\n",
       "        174.40580161, 175.09992936]))"
      ]
     },
     "execution_count": 68,
     "metadata": {},
     "output_type": "execute_result"
    }
   ],
   "source": [
    "men = np.random.normal(men_mean, men_std, sample)\n",
    "women = np.random.normal(women_mean, women_std, sample)\n",
    "men , women"
   ]
  },
  {
   "cell_type": "markdown",
   "id": "f54ba61b-e7df-4feb-b50a-c7cf757fac1c",
   "metadata": {},
   "source": [
    "* If a man and woman are chosen at random, what is the likelihood the woman is taller than the man?"
   ]
  },
  {
   "cell_type": "code",
   "execution_count": 69,
   "id": "6a0899f0-9e88-4893-83e5-098668150d91",
   "metadata": {
    "tags": []
   },
   "outputs": [
    {
     "data": {
      "text/plain": [
       "0.2133"
      ]
     },
     "execution_count": 69,
     "metadata": {},
     "output_type": "execute_result"
    }
   ],
   "source": [
    "taller = np.mean(women > men) \n",
    "taller"
   ]
  },
  {
   "cell_type": "markdown",
   "id": "aca7aa94-3277-48cb-9b49-889157b17ae2",
   "metadata": {},
   "source": [
    "**When installing anaconda on a student's computer, there's a 1 in 250 chance that the download is corrupted and the installation fails. What are the odds that after having 50 students download anaconda, no one has an installation issue? 100 students?**"
   ]
  },
  {
   "cell_type": "code",
   "execution_count": 163,
   "id": "f2c0cd76-2779-4790-b8df-220fe4c798ca",
   "metadata": {
    "tags": []
   },
   "outputs": [
    {
     "data": {
      "text/plain": [
       "0.00396"
      ]
     },
     "execution_count": 163,
     "metadata": {},
     "output_type": "execute_result"
    }
   ],
   "source": [
    "chances = 250\n",
    "downloads = 50\n",
    "simulations = 10_000\n",
    "\n",
    "corrupted = np.random.choice(chances, (simulations, downloads))\n",
    "(corrupted == 1).mean()"
   ]
  },
  {
   "cell_type": "code",
   "execution_count": 89,
   "id": "902f0bc1-65d4-4bb6-88cc-1393f64dae68",
   "metadata": {
    "tags": []
   },
   "outputs": [
    {
     "data": {
      "text/plain": [
       "0.003945"
      ]
     },
     "execution_count": 89,
     "metadata": {},
     "output_type": "execute_result"
    }
   ],
   "source": [
    "chances = 250\n",
    "downloads = 100\n",
    "simulations = 10_000\n",
    "\n",
    "corrupted = np.random.choice(chances, (simulations, downloads))\n",
    "(corrupted == 1).mean()"
   ]
  },
  {
   "cell_type": "markdown",
   "id": "91eff0d2-4ebd-4da5-ad58-7aebbb680cf0",
   "metadata": {},
   "source": [
    "* What is the probability that we observe an installation issue within the first 150 students that download anaconda?\n",
    "\n"
   ]
  },
  {
   "cell_type": "code",
   "execution_count": 90,
   "id": "53d7589e-48e0-4e08-896f-0bacdf20deaf",
   "metadata": {
    "tags": []
   },
   "outputs": [
    {
     "data": {
      "text/plain": [
       "0.004048"
      ]
     },
     "execution_count": 90,
     "metadata": {},
     "output_type": "execute_result"
    }
   ],
   "source": [
    "chances = 250\n",
    "downloads = 150\n",
    "simulations = 10_000\n",
    "\n",
    "corrupted = np.random.choice(chances, (simulations, downloads))\n",
    "(corrupted == 1).mean()"
   ]
  },
  {
   "cell_type": "markdown",
   "id": "1ca185aa-44ce-4ef3-b112-841e13242a5d",
   "metadata": {},
   "source": [
    "* How likely is it that 450 students all download anaconda without an issue?\n",
    "\n"
   ]
  },
  {
   "cell_type": "code",
   "execution_count": 87,
   "id": "ce2f99a6-86f0-4ca0-9c83-de4d85d46c9b",
   "metadata": {
    "tags": []
   },
   "outputs": [
    {
     "data": {
      "text/plain": [
       "0.996054"
      ]
     },
     "execution_count": 87,
     "metadata": {},
     "output_type": "execute_result"
    }
   ],
   "source": [
    "chances = 250\n",
    "downloads = 50\n",
    "simulations = 10_000\n",
    "\n",
    "corrupted = np.random.choice(chances, (simulations, downloads))\n",
    "(corrupted != 1).mean()"
   ]
  },
  {
   "cell_type": "markdown",
   "id": "892d3cb7-4e33-4e91-9441-25ce58a6c8d3",
   "metadata": {},
   "source": [
    "**There's a 70% chance on any given day that there will be at least one food truck at Travis Park. However, you haven't seen a food truck there in 3 days. How unlikely is this?**"
   ]
  },
  {
   "cell_type": "code",
   "execution_count": 120,
   "id": "0279a72b-b4af-42c5-be95-49114500b4b9",
   "metadata": {
    "tags": []
   },
   "outputs": [
    {
     "data": {
      "text/plain": [
       "0.027000000000000014"
      ]
     },
     "execution_count": 120,
     "metadata": {},
     "output_type": "execute_result"
    }
   ],
   "source": [
    "chance = 0.70\n",
    "days = 3\n",
    "\n",
    "no_truck = 1 - chance\n",
    "\n",
    "no_truck = no_truck ** days\n",
    "no_truck"
   ]
  },
  {
   "cell_type": "markdown",
   "id": "aab29e3e-ec73-41fc-859c-d29f66474b20",
   "metadata": {},
   "source": [
    "* How likely is it that a food truck will show up sometime this week?\n",
    "\n"
   ]
  },
  {
   "cell_type": "code",
   "execution_count": 119,
   "id": "5840d89a-cdf2-40a4-a400-512b4c859f90",
   "metadata": {
    "tags": []
   },
   "outputs": [
    {
     "data": {
      "text/plain": [
       "0.9997813"
      ]
     },
     "execution_count": 119,
     "metadata": {},
     "output_type": "execute_result"
    }
   ],
   "source": [
    "chance = 0.70\n",
    "days = 7\n",
    "\n",
    "no_truck = 1 - chance\n",
    "\n",
    "truck_that_week = no_truck ** days\n",
    "1 - truck_that_week"
   ]
  },
  {
   "cell_type": "markdown",
   "id": "f4437aa3-0688-4e97-b31f-33da8636bf60",
   "metadata": {},
   "source": [
    "**If 23 people are in the same room, what are the odds that two of them share a birthday? What if it's 20 people? 40?**"
   ]
  },
  {
   "cell_type": "code",
   "execution_count": 141,
   "id": "b58e978a-5eb3-415c-8e95-c443c8dd9730",
   "metadata": {
    "tags": []
   },
   "outputs": [
    {
     "data": {
      "text/plain": [
       "0.506599"
      ]
     },
     "execution_count": 141,
     "metadata": {},
     "output_type": "execute_result"
    }
   ],
   "source": [
    "people = 23\n",
    "num_simulations = 1000000\n",
    "\n",
    "birthdays_simulations = np.random.randint(1, 366, (num_simulations, people))\n",
    "\n",
    "matches = np.array([len(set(birthdays)) != len(birthdays) for birthdays in birthdays_simulations])\n",
    "\n",
    "probability_no_function = np.sum(matches) / num_simulations\n",
    "probability_no_function"
   ]
  },
  {
   "cell_type": "code",
   "execution_count": 142,
   "id": "dd2ad6e6-d825-4001-b400-8650748ae2da",
   "metadata": {
    "tags": []
   },
   "outputs": [
    {
     "data": {
      "text/plain": [
       "0.412692"
      ]
     },
     "execution_count": 142,
     "metadata": {},
     "output_type": "execute_result"
    }
   ],
   "source": [
    "people = 20\n",
    "num_simulations = 1000000\n",
    "\n",
    "birthdays_simulations = np.random.randint(1, 366, (num_simulations, people))\n",
    "\n",
    "matches = np.array([len(set(birthdays)) != len(birthdays) for birthdays in birthdays_simulations])\n",
    "\n",
    "probability_no_function = np.sum(matches) / num_simulations\n",
    "probability_no_function"
   ]
  },
  {
   "cell_type": "code",
   "execution_count": 143,
   "id": "77e12776-3a81-40b4-9b41-b620387b6627",
   "metadata": {
    "tags": []
   },
   "outputs": [
    {
     "data": {
      "text/plain": [
       "0.89157"
      ]
     },
     "execution_count": 143,
     "metadata": {},
     "output_type": "execute_result"
    }
   ],
   "source": [
    "people = 40\n",
    "num_simulations = 1000000\n",
    "\n",
    "birthdays_simulations = np.random.randint(1, 366, (num_simulations, people))\n",
    "\n",
    "matches = np.array([len(set(birthdays)) != len(birthdays) for birthdays in birthdays_simulations])\n",
    "\n",
    "probability_no_function = np.sum(matches) / num_simulations\n",
    "probability_no_function"
   ]
  },
  {
   "cell_type": "code",
   "execution_count": 170,
   "id": "a31ab54b-4e92-400d-bd3b-3c6c7e88733d",
   "metadata": {
    "tags": []
   },
   "outputs": [
    {
     "data": {
      "text/plain": [
       "0.50681"
      ]
     },
     "execution_count": 170,
     "metadata": {},
     "output_type": "execute_result"
    }
   ],
   "source": [
    "n_people = 23\n",
    "outcomes = list(range(1,366))\n",
    "n_trials = 100_000\n",
    "birthdays = np.random.choice(outcomes, (n_trials, n_people))\n",
    "birthdays = pd.DataFrame(birthdays)\n",
    "(birthdays.nunique(axis=1) < n_people).mean()"
   ]
  },
  {
   "cell_type": "code",
   "execution_count": null,
   "id": "dee21424-e802-4bb5-87e9-a275b22614f5",
   "metadata": {},
   "outputs": [],
   "source": []
  }
 ],
 "metadata": {
  "kernelspec": {
   "display_name": "Python 3 (ipykernel)",
   "language": "python",
   "name": "python3"
  },
  "language_info": {
   "codemirror_mode": {
    "name": "ipython",
    "version": 3
   },
   "file_extension": ".py",
   "mimetype": "text/x-python",
   "name": "python",
   "nbconvert_exporter": "python",
   "pygments_lexer": "ipython3",
   "version": "3.11.5"
  }
 },
 "nbformat": 4,
 "nbformat_minor": 5
}
