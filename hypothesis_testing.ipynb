{
 "cells": [
  {
   "cell_type": "markdown",
   "id": "5bcb8b92-53af-4d94-b42e-32fa84517e03",
   "metadata": {},
   "source": [
    "**Has the network latency gone up since we switched internet service providers?**"
   ]
  },
  {
   "cell_type": "markdown",
   "id": "4557ff94-860f-4ecc-b1a7-e46fc104c422",
   "metadata": {},
   "source": [
    "Null Hypothesis - The network latency has not gone up since we switched internet service providers.\n",
    "Alternative Hypothesis - The network latency has gone up since we switched internet service providers.\n",
    "True Positive - The new internet service provider has lower bandwith speeds which causes network latency to go up.\n",
    "True Negative - The new internet service provider has the same bandwith as the old provider.\n",
    "Type 1 Error - The lower bandwith speeds didn't affect network latency because there was not an increase in users.\n",
    "Type 2 Error - The more students on the network caused the higher latency when we thought it might have been the bandwith."
   ]
  },
  {
   "cell_type": "markdown",
   "id": "098abbc1-56c9-43ef-a25f-dd6c1747c871",
   "metadata": {},
   "source": [
    "**Does the instagram redesign increase screen hours per user on the app?**"
   ]
  },
  {
   "cell_type": "markdown",
   "id": "0acb6b65-3b0d-4cc4-bffd-c255c6e64cce",
   "metadata": {},
   "source": [
    "Null Hypothesis - The instagram redesign had no effect on user screen hours per day.\n",
    "Alternative Hypothesis - The instagram redesign did effect user screen hours per day.\n",
    "True Positive - The new design allows users to easily access reels which is found to increase screen hours per day.\n",
    "True Negative - The redesigned home page resulted in a similar month to month user screen hours per day.\n",
    "Type 1 Error - The algorithm was boosting reels content that month which caused higher screen hours, not the redesign.\n",
    "Type 2 Error - After the redesign more users spent their screen hours on reels instead of the main feed each day."
   ]
  },
  {
   "cell_type": "markdown",
   "id": "29983b39-029b-4f79-8409-b65db4361bad",
   "metadata": {},
   "source": [
    "**Does more advertisments of the new Chevy Silverado drive up sales?**"
   ]
  },
  {
   "cell_type": "markdown",
   "id": "14a8d7fa-04b9-45fb-b932-92317046db3b",
   "metadata": {},
   "source": [
    "Null Hypothesis - Sales of the new Chevy Silverado were not affected with increased advertisements.\n",
    "Alternative Hypothesis - Sales of the new Chevy Silverado were affected with increased advertisements.\n",
    "True Positive - The more money spent on advertisements the more the sales across the country for that year.\n",
    "True Negative - More money spent on advertisements did not show a change in sales for that year.\n",
    "Type 1 Error - Sales only increased during the year for the big savings month in december, not because of the advertisements.\n",
    "Type 2 Error - More advertisements drove up sales in southern states rather than the whole country."
   ]
  }
 ],
 "metadata": {
  "kernelspec": {
   "display_name": "Python 3 (ipykernel)",
   "language": "python",
   "name": "python3"
  },
  "language_info": {
   "codemirror_mode": {
    "name": "ipython",
    "version": 3
   },
   "file_extension": ".py",
   "mimetype": "text/x-python",
   "name": "python",
   "nbconvert_exporter": "python",
   "pygments_lexer": "ipython3",
   "version": "3.11.5"
  }
 },
 "nbformat": 4,
 "nbformat_minor": 5
}
