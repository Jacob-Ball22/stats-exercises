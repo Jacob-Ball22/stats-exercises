{
 "cells": [
  {
   "cell_type": "code",
   "execution_count": 16,
   "id": "389de4b4-b07b-44f7-9de0-2fa25a352459",
   "metadata": {
    "tags": []
   },
   "outputs": [],
   "source": [
    "# pyplot for plotting\n",
    "import matplotlib.pyplot as plt\n",
    "# numpy for vectorized array operations\n",
    "import numpy as np\n",
    "# pandas for proper tabular manipulation\n",
    "import pandas as pd\n",
    "# scipy stats for our subversions\n",
    "from scipy import stats"
   ]
  },
  {
   "cell_type": "markdown",
   "id": "575ba2a7-8a8d-4853-8c11-c4d5b9fa508e",
   "metadata": {},
   "source": [
    "**A bank found that the average number of cars waiting during the noon hour at a drive-up window follows a Poisson distribution with a mean of 2 cars. Make a chart of this distribution and answer these questions concerning the probability of cars waiting at the drive-up window.**"
   ]
  },
  {
   "cell_type": "code",
   "execution_count": 147,
   "id": "68f6de25-9b65-4c34-afa3-92849ed9de5e",
   "metadata": {
    "tags": []
   },
   "outputs": [],
   "source": [
    "λ = 2\n",
    "cars = stats.poisson(λ)"
   ]
  },
  {
   "cell_type": "code",
   "execution_count": 154,
   "id": "7b7f9add-35c5-4514-8509-7cae5c74046f",
   "metadata": {
    "tags": []
   },
   "outputs": [
    {
     "data": {
      "text/plain": [
       "<BarContainer object of 12 artists>"
      ]
     },
     "execution_count": 154,
     "metadata": {},
     "output_type": "execute_result"
    },
    {
     "data": {
      "image/png": "[encoded data removed]",
      "text/plain": [
       "<Figure size 640x480 with 1 Axes>"
      ]
     },
     "metadata": {},
     "output_type": "display_data"
    }
   ],
   "source": [
    "#chart\n",
    "xs = range(12)\n",
    "ys = [cars.pmf(x) for x in xs]\n",
    "plt.bar(xs,ys)"
   ]
  },
  {
   "cell_type": "markdown",
   "id": "d1dedc81-37aa-4af2-bf38-683c31828a6e",
   "metadata": {},
   "source": [
    "* What is the probability that no cars drive up in the noon hour?"
   ]
  },
  {
   "cell_type": "code",
   "execution_count": 148,
   "id": "5262721f-dc47-4d43-95bd-4ce06070660a",
   "metadata": {
    "tags": []
   },
   "outputs": [
    {
     "data": {
      "text/plain": [
       "0.1353352832366127"
      ]
     },
     "execution_count": 148,
     "metadata": {},
     "output_type": "execute_result"
    }
   ],
   "source": [
    "cars.pmf(0)"
   ]
  },
  {
   "cell_type": "markdown",
   "id": "366eb6da-c040-468e-865b-3c8cab5dd307",
   "metadata": {},
   "source": [
    "* What is the probability that 3 or more cars come through the drive through?"
   ]
  },
  {
   "cell_type": "code",
   "execution_count": 149,
   "id": "3ee896cf-cff5-42bc-8cba-972ab0582912",
   "metadata": {
    "tags": []
   },
   "outputs": [
    {
     "data": {
      "text/plain": [
       "0.32332358381693654"
      ]
     },
     "execution_count": 149,
     "metadata": {},
     "output_type": "execute_result"
    }
   ],
   "source": [
    "cars.sf(2)"
   ]
  },
  {
   "cell_type": "markdown",
   "id": "fb7557dc-5d0e-4af0-a3a6-87c5e2cedf3c",
   "metadata": {},
   "source": [
    "* How likely is it that the drive through gets at least 1 car?"
   ]
  },
  {
   "cell_type": "code",
   "execution_count": 150,
   "id": "560f174b-7bdd-48d7-bae5-8678e02a850f",
   "metadata": {
    "tags": []
   },
   "outputs": [
    {
     "data": {
      "text/plain": [
       "0.8646647167633873"
      ]
     },
     "execution_count": 150,
     "metadata": {},
     "output_type": "execute_result"
    }
   ],
   "source": [
    "cars.sf(0)"
   ]
  },
  {
   "cell_type": "markdown",
   "id": "6eacb5cc-fb94-4522-a67a-53f7fbb91f8e",
   "metadata": {},
   "source": [
    "**Grades of State University graduates are normally distributed with a mean of 3.0 and a standard deviation of .3. Calculate the following:**"
   ]
  },
  {
   "cell_type": "code",
   "execution_count": 155,
   "id": "c3787673-48c5-4c74-900b-5ccc70f3f5a6",
   "metadata": {
    "tags": []
   },
   "outputs": [
    {
     "data": {
      "text/plain": [
       "<scipy.stats._distn_infrastructure.rv_continuous_frozen at 0x28fcb7590>"
      ]
     },
     "execution_count": 155,
     "metadata": {},
     "output_type": "execute_result"
    }
   ],
   "source": [
    "mean_value = 3.0\n",
    "standard_deviation = 0.3\n",
    "grades = stats.norm(mean_value, standard_deviation)\n",
    "grades"
   ]
  },
  {
   "cell_type": "markdown",
   "id": "40399a6a-c92b-489b-987b-11fdaf36ff97",
   "metadata": {},
   "source": [
    "* What grade point average is required to be in the top 5% of the graduating class?"
   ]
  },
  {
   "cell_type": "code",
   "execution_count": 160,
   "id": "521285c9-fcfc-4aca-a91d-2e903271ef89",
   "metadata": {
    "tags": []
   },
   "outputs": [
    {
     "data": {
      "text/plain": [
       "3.49"
      ]
     },
     "execution_count": 160,
     "metadata": {},
     "output_type": "execute_result"
    }
   ],
   "source": [
    "round(grades.isf(.05),2)"
   ]
  },
  {
   "cell_type": "markdown",
   "id": "532dda4e-374a-4f6a-94bd-661437a3ebeb",
   "metadata": {},
   "source": [
    "* What GPA constitutes the bottom 15% of the class?"
   ]
  },
  {
   "cell_type": "code",
   "execution_count": 159,
   "id": "899c7e7a-7d04-44fd-9784-21f70f2873b1",
   "metadata": {
    "tags": []
   },
   "outputs": [
    {
     "data": {
      "text/plain": [
       "2.69"
      ]
     },
     "execution_count": 159,
     "metadata": {},
     "output_type": "execute_result"
    }
   ],
   "source": [
    "round(grades.ppf(.15),2)"
   ]
  },
  {
   "cell_type": "markdown",
   "id": "6c9e7b5e-1e7f-433a-99f0-928e5374b439",
   "metadata": {},
   "source": [
    "* An eccentric alumnus left scholarship money for students in the third decile from the bottom of their class. Determine the range of the third decile. Would a student with a 2.8 grade point average qualify for this scholarship?"
   ]
  },
  {
   "cell_type": "code",
   "execution_count": 158,
   "id": "f258094b-74e3-4122-a508-0df04cda2136",
   "metadata": {
    "tags": []
   },
   "outputs": [
    {
     "data": {
      "text/plain": [
       "(2.7475136299281258, 2.842679846187588)"
      ]
     },
     "execution_count": 158,
     "metadata": {},
     "output_type": "execute_result"
    }
   ],
   "source": [
    "third_decile = grades.ppf(0.3)\n",
    "second_decile = grades.ppf(0.2)\n",
    "second_decile, third_decile"
   ]
  },
  {
   "cell_type": "code",
   "execution_count": 161,
   "id": "4aaeea88-29d2-41d9-be1e-ac688e44f6d4",
   "metadata": {
    "tags": []
   },
   "outputs": [
    {
     "data": {
      "text/plain": [
       "(2.7475136299281258, 2.842679846187588)"
      ]
     },
     "execution_count": 161,
     "metadata": {},
     "output_type": "execute_result"
    }
   ],
   "source": [
    "lower_fence, upper_fence = grades.ppf([0.2,0.3])\n",
    "lower_fence, upper_fence"
   ]
  },
  {
   "cell_type": "markdown",
   "id": "d33ae1b1-aab7-498d-88f4-f8f4dd7f40bb",
   "metadata": {},
   "source": [
    "* If I have a GPA of 3.5, what percentile am I in?"
   ]
  },
  {
   "cell_type": "code",
   "execution_count": 23,
   "id": "5e9bf6d4-a417-4374-802d-05dae25fdafe",
   "metadata": {
    "tags": []
   },
   "outputs": [
    {
     "data": {
      "text/plain": [
       "0.9522096477271853"
      ]
     },
     "execution_count": 23,
     "metadata": {},
     "output_type": "execute_result"
    }
   ],
   "source": [
    "grads.cdf(3.5)\n",
    "#95th percentile"
   ]
  },
  {
   "cell_type": "markdown",
   "id": "99bf5b3f-88a2-4367-ac1a-320de0b5efc8",
   "metadata": {},
   "source": [
    "**A marketing website has an average click-through rate of 2%. One day they observe 4326 visitors and 97 click-throughs. How likely is it that this many people or more click through?**"
   ]
  },
  {
   "cell_type": "code",
   "execution_count": 162,
   "id": "d74e8bcd-ad3e-4a4b-ba2c-b93f079d0ed6",
   "metadata": {
    "tags": []
   },
   "outputs": [
    {
     "data": {
      "text/plain": [
       "0.13975823631416448"
      ]
     },
     "execution_count": 162,
     "metadata": {},
     "output_type": "execute_result"
    }
   ],
   "source": [
    "click_dist = stats.binom(4326, 0.02)\n",
    "#odds of getting 97 or more click throughs\n",
    "click_dist.sf(96)"
   ]
  },
  {
   "cell_type": "markdown",
   "id": "e779a294-671f-41f9-8a74-050869ce3eeb",
   "metadata": {},
   "source": [
    "**You are working on some statistics homework consisting of 100 questions where all of the answers are a probability rounded to the hundreths place. Looking to save time, you put down random probabilities as the answer to each question.**\n"
   ]
  },
  {
   "cell_type": "markdown",
   "id": "1a639a2d-2452-47ac-a6ee-4c017db94a8f",
   "metadata": {},
   "source": [
    "* What is the probability that at least one of your first 60 answers is correct?"
   ]
  },
  {
   "cell_type": "code",
   "execution_count": 165,
   "id": "53b75b12-62f2-4f7e-bb88-3ee744107148",
   "metadata": {
    "tags": []
   },
   "outputs": [
    {
     "data": {
      "text/plain": [
       "0.44955038406224"
      ]
     },
     "execution_count": 165,
     "metadata": {},
     "output_type": "execute_result"
    }
   ],
   "source": [
    "# 0.00 through 1.00 is 101 possibilities\n",
    "total_answers = 101\n",
    "correct_chance = 1 / total_answers\n",
    "# trials\n",
    "answered = 60\n",
    "#binomial distribution of answered and chance per answer\n",
    "one_correct = stats.binom(answered, correct_chance)\n",
    "#survival for any amount over zero\n",
    "one_correct.sf(0)"
   ]
  },
  {
   "cell_type": "markdown",
   "id": "6cbd1935-10c6-46ef-ac56-0c2182bcfa80",
   "metadata": {},
   "source": [
    "**The codeup staff tends to get upset when the student break area is not cleaned up. Suppose that there's a 3% chance that any one student cleans the break area when they visit it, and, on any given day, about 90% of the 3 active cohorts of 22 students visit the break area. How likely is it that the break area gets cleaned up each day? How likely is it that it goes two days without getting cleaned up? All week?**"
   ]
  },
  {
   "cell_type": "code",
   "execution_count": 174,
   "id": "9e57d2b9-4739-4a60-a93f-e44905155a25",
   "metadata": {
    "tags": []
   },
   "outputs": [
    {
     "data": {
      "text/plain": [
       "0.83"
      ]
     },
     "execution_count": 174,
     "metadata": {},
     "output_type": "execute_result"
    }
   ],
   "source": [
    "success = 0.03\n",
    "students = int(0.9 * 3 * 22)\n",
    "distribution = stats.binom(students, success)\n",
    "#one day\n",
    "round(distribution.sf(0),2)"
   ]
  },
  {
   "cell_type": "code",
   "execution_count": 176,
   "id": "aba975f2-7389-4770-b7c6-eff53b31484c",
   "metadata": {
    "tags": []
   },
   "outputs": [
    {
     "data": {
      "text/plain": [
       "0.026658541032798935"
      ]
     },
     "execution_count": 176,
     "metadata": {},
     "output_type": "execute_result"
    }
   ],
   "source": [
    "#the original students without int has a hanging 0.4\n",
    "#we will account that 0.8 after multiplying so we use +1 to include an extra person\n",
    "stats.binom((students * 2) + 1, success).pmf(0)"
   ]
  },
  {
   "cell_type": "code",
   "execution_count": 180,
   "id": "fbf5e3a5-70aa-45d3-a381-74f78517f547",
   "metadata": {
    "tags": []
   },
   "outputs": [
    {
     "data": {
      "text/plain": [
       "0.00012521651388088851"
      ]
     },
     "execution_count": 180,
     "metadata": {},
     "output_type": "execute_result"
    }
   ],
   "source": [
    "stats.binom((students * 5), success).pmf(0)"
   ]
  },
  {
   "cell_type": "markdown",
   "id": "d86b2386-ed49-4de6-b4c2-f5ead6679e8b",
   "metadata": {},
   "source": [
    "**You want to get lunch at La Panaderia, but notice that the line is usually very long at lunchtime. After several weeks of careful observation, you notice that the average number of people in line when your lunch break starts is normally distributed with a mean of 15 and standard deviation of 3. If it takes 2 minutes for each person to order, and 10 minutes from ordering to getting your food, what is the likelihood that you have at least 15 minutes left to eat your food before you have to go back to class? Assume you have one hour for lunch, and ignore travel time to and from La Panaderia.**"
   ]
  },
  {
   "cell_type": "code",
   "execution_count": 66,
   "id": "9fde80f4-89cf-4536-9889-357acc41a703",
   "metadata": {
    "tags": []
   },
   "outputs": [
    {
     "data": {
      "text/plain": [
       "40"
      ]
     },
     "execution_count": 66,
     "metadata": {},
     "output_type": "execute_result"
    }
   ],
   "source": [
    "lunch_mean = 15\n",
    "lunch_std = 3\n",
    "lunch = stats.norm(lunch_mean, lunch_std)\n",
    "\n",
    "order_time = 2\n",
    "food_arrival = 10\n",
    "total_lunch_time = 60\n",
    "\n",
    "total_wait_time = food_arrival + (order_time * lunch_mean)\n"
   ]
  },
  {
   "cell_type": "code",
   "execution_count": 182,
   "id": "75739e8b-898b-43d3-964c-c76a8813c7d6",
   "metadata": {
    "tags": []
   },
   "outputs": [
    {
     "data": {
      "text/plain": [
       "0.6914624612740131"
      ]
     },
     "execution_count": 182,
     "metadata": {},
     "output_type": "execute_result"
    }
   ],
   "source": [
    "#convert people into minutes of time they take from lunch hour\n",
    "mue = 15 * 2\n",
    "sigma = 3 * 2\n",
    "line_dist = stats.norm(mue, sigma)\n",
    "\n",
    "time_left = 60 - (15 + 10 + 2)\n",
    "\n",
    "line_dist.cdf(time_left)\n",
    "#1/3 chance you'll get back to class late"
   ]
  },
  {
   "cell_type": "markdown",
   "id": "26479c9d-155b-498a-8942-cc46f590ce48",
   "metadata": {},
   "source": [
    "**Connect to the employees database and find the average salary of current employees, along with the standard deviation. For the following questions, calculate the answer based on modeling the employees salaries with a normal distribution defined by the calculated mean and standard deviation then compare this answer to the actual values present in the salaries dataset.**"
   ]
  },
  {
   "cell_type": "code",
   "execution_count": 13,
   "id": "e6966b64-cae6-4548-9a59-bc0baebe2f6d",
   "metadata": {
    "tags": []
   },
   "outputs": [
    {
     "data": {
      "text/html": [
       "<div>\n",
       "<style scoped>\n",
       "    .dataframe tbody tr th:only-of-type {\n",
       "        vertical-align: middle;\n",
       "    }\n",
       "\n",
       "    .dataframe tbody tr th {\n",
       "        vertical-align: top;\n",
       "    }\n",
       "\n",
       "    .dataframe thead th {\n",
       "        text-align: right;\n",
       "    }\n",
       "</style>\n",
       "<table border=\"1\" class=\"dataframe\">\n",
       "  <thead>\n",
       "    <tr style=\"text-align: right;\">\n",
       "      <th></th>\n",
       "      <th>emp_no</th>\n",
       "      <th>salary</th>\n",
       "      <th>from_date</th>\n",
       "      <th>to_date</th>\n",
       "    </tr>\n",
       "  </thead>\n",
       "  <tbody>\n",
       "    <tr>\n",
       "      <th>0</th>\n",
       "      <td>10001</td>\n",
       "      <td>88958</td>\n",
       "      <td>2002-06-22</td>\n",
       "      <td>9999-01-01</td>\n",
       "    </tr>\n",
       "    <tr>\n",
       "      <th>1</th>\n",
       "      <td>10002</td>\n",
       "      <td>72527</td>\n",
       "      <td>2001-08-02</td>\n",
       "      <td>9999-01-01</td>\n",
       "    </tr>\n",
       "    <tr>\n",
       "      <th>2</th>\n",
       "      <td>10003</td>\n",
       "      <td>43311</td>\n",
       "      <td>2001-12-01</td>\n",
       "      <td>9999-01-01</td>\n",
       "    </tr>\n",
       "    <tr>\n",
       "      <th>3</th>\n",
       "      <td>10004</td>\n",
       "      <td>74057</td>\n",
       "      <td>2001-11-27</td>\n",
       "      <td>9999-01-01</td>\n",
       "    </tr>\n",
       "    <tr>\n",
       "      <th>4</th>\n",
       "      <td>10005</td>\n",
       "      <td>94692</td>\n",
       "      <td>2001-09-09</td>\n",
       "      <td>9999-01-01</td>\n",
       "    </tr>\n",
       "  </tbody>\n",
       "</table>\n",
       "</div>"
      ],
      "text/plain": [
       "   emp_no  salary   from_date     to_date\n",
       "0   10001   88958  2002-06-22  9999-01-01\n",
       "1   10002   72527  2001-08-02  9999-01-01\n",
       "2   10003   43311  2001-12-01  9999-01-01\n",
       "3   10004   74057  2001-11-27  9999-01-01\n",
       "4   10005   94692  2001-09-09  9999-01-01"
      ]
     },
     "execution_count": 13,
     "metadata": {},
     "output_type": "execute_result"
    }
   ],
   "source": [
    "from env import username, password, hostname\n",
    "import pandas as pd\n",
    "\n",
    "query = '''\n",
    "SELECT * FROM salaries s WHERE s.to_date > NOW()\n",
    "'''\n",
    "\n",
    "connection = f'mysql+pymysql://{username}:{password}@{hostname}/employees'\n",
    "df = pd.read_sql(query, connection)\n",
    "df.head()"
   ]
  },
  {
   "cell_type": "markdown",
   "id": "f7102e36-6b12-4748-b575-6ad42f64c217",
   "metadata": {},
   "source": [
    "* What percent of employees earn less than 60,000?"
   ]
  },
  {
   "cell_type": "code",
   "execution_count": 17,
   "id": "88f886de-2c36-474c-b559-a5142813ca41",
   "metadata": {
    "tags": []
   },
   "outputs": [
    {
     "data": {
      "text/plain": [
       "0.24385742480214434"
      ]
     },
     "execution_count": 17,
     "metadata": {},
     "output_type": "execute_result"
    }
   ],
   "source": [
    "sal_stats = df.salary.agg(['mean','std'])\n",
    "sal_stats.values\n",
    "salary_dist = stats.norm(*sal_stats.values)\n",
    "salary_dist.cdf(60_000)"
   ]
  },
  {
   "cell_type": "markdown",
   "id": "202d8f5c-1214-45df-aadf-95a94c0998d1",
   "metadata": {},
   "source": [
    "* What percent of employees earn more than 95,000?\n"
   ]
  },
  {
   "cell_type": "code",
   "execution_count": 18,
   "id": "1a8750d1-d4b4-4221-8bd4-0f6f5ce12fe4",
   "metadata": {
    "tags": []
   },
   "outputs": [
    {
     "data": {
      "text/plain": [
       "0.09208819199804058"
      ]
     },
     "execution_count": 18,
     "metadata": {},
     "output_type": "execute_result"
    }
   ],
   "source": [
    "salary_dist.sf(95_000)"
   ]
  },
  {
   "cell_type": "markdown",
   "id": "d0eae463-fa2c-4d3a-bcbe-9300f04b0264",
   "metadata": {
    "tags": []
   },
   "source": [
    "* What percent of employees earn between 65,000 and 80,000?"
   ]
  },
  {
   "cell_type": "code",
   "execution_count": 19,
   "id": "e12a241b-464d-44b7-8ed7-2f09832ba9cf",
   "metadata": {
    "tags": []
   },
   "outputs": [
    {
     "data": {
      "text/plain": [
       "(0.677763490495318, 0.3427029219506515)"
      ]
     },
     "execution_count": 19,
     "metadata": {},
     "output_type": "execute_result"
    }
   ],
   "source": [
    "high_sal, lower_sal = salary_dist.cdf([80_000, 65_000])\n",
    "bracket = high_sal, lower_sal\n",
    "bracket"
   ]
  },
  {
   "cell_type": "markdown",
   "id": "d2060d1e-597c-46a2-bd53-ac26709f508a",
   "metadata": {},
   "source": [
    "* What do the top 5% of employees make?\n"
   ]
  },
  {
   "cell_type": "code",
   "execution_count": 20,
   "id": "88ede165-d005-4ed8-9191-3765f5119381",
   "metadata": {
    "tags": []
   },
   "outputs": [
    {
     "data": {
      "text/plain": [
       "100484.64454102777"
      ]
     },
     "execution_count": 20,
     "metadata": {},
     "output_type": "execute_result"
    }
   ],
   "source": [
    "salary_dist.isf(0.05)"
   ]
  },
  {
   "cell_type": "code",
   "execution_count": null,
   "id": "b0b5e78b-4eaf-4082-b5e2-eea4a9a89b88",
   "metadata": {},
   "outputs": [],
   "source": []
  }
 ],
 "metadata": {
  "kernelspec": {
   "display_name": "Python 3 (ipykernel)",
   "language": "python",
   "name": "python3"
  },
  "language_info": {
   "codemirror_mode": {
    "name": "ipython",
    "version": 3
   },
   "file_extension": ".py",
   "mimetype": "text/x-python",
   "name": "python",
   "nbconvert_exporter": "python",
   "pygments_lexer": "ipython3",
   "version": "3.11.5"
  }
 },
 "nbformat": 4,
 "nbformat_minor": 5
}
